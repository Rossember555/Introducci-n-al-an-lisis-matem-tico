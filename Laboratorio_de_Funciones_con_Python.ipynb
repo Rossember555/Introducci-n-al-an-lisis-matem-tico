{
  "nbformat": 4,
  "nbformat_minor": 0,
  "metadata": {
    "colab": {
      "name": "Laboratorio de Funciones con Python",
      "provenance": [],
      "collapsed_sections": [],
      "include_colab_link": true
    },
    "kernelspec": {
      "display_name": "Python 3",
      "name": "python3"
    }
  },
  "cells": [
    {
      "cell_type": "markdown",
      "metadata": {
        "id": "view-in-github",
        "colab_type": "text"
      },
      "source": [
        "<a href=\"https://colab.research.google.com/github/Rossember555/Introducci-n-al-an-lisis-matem-tico/blob/main/Laboratorio_de_Funciones_con_Python.ipynb\" target=\"_parent\"><img src=\"https://colab.research.google.com/assets/colab-badge.svg\" alt=\"Open In Colab\"/></a>"
      ]
    },
    {
      "cell_type": "markdown",
      "metadata": {
        "id": "RVxHpsbcExUD"
      },
      "source": [
        "<p><img alt=\"logo.fua\" height=\"100px\" src=\"https://github.com/josorio398/ALGEBRA-LINEAL-CON-PYTHON/blob/master/im%C3%A1genes%20repositorio/Logo%20UAm%C3%A9rica%20nuevo%202021.ai_page-0005.jpg?raw=true\" align=\"left\" hspace=\"0px\" vspace=\"0px\"></p>\n",
        "\n",
        "<p><img alt=\"logo.fua\" height=\"26px\" src=\"https://mirrors.creativecommons.org/presskit/buttons/88x31/svg/by-nd.svg\" align=\"right\" hspace=\"0px\" vspace=\"11px\"></p>\n",
        "\n",
        "\n",
        "\n",
        "<h1><center><font size=\"6px\"> <strong>INTRODUCCIÓN AL ANÁLISIS MATEMÁTICO </font> </strong></center></h1>\n",
        "\n",
        "<h1><center><font size=\"4px\"> <strong>Rossember Edén Cardenas Torres - Jhonny Osorio Gallego </font> </strong></center></h1>\n",
        "\n"
      ]
    },
    {
      "cell_type": "code",
      "metadata": {
        "id": "4wHJ9dZ3405h"
      },
      "source": [
        "from sympy import *\n",
        "from matplotlib import pyplot as plt\n",
        "import numpy as np\n",
        "init_printing() \n",
        "x,y,z,a,h,w,t  = symbols(\"x y z a h w t\")"
      ],
      "execution_count": null,
      "outputs": []
    },
    {
      "cell_type": "markdown",
      "source": [
        "\n",
        "\n",
        "$$\\Large {\\color{red} { \\mathbf {¿Cómo \\ \\ definir \\ \\ funciones \\ \\ en \\ \\ Python?}} }$$"
      ],
      "metadata": {
        "id": "FgU3Q6gv3RIt"
      }
    },
    {
      "cell_type": "markdown",
      "source": [
        "<figure>\n",
        "<center>\n",
        "<img src='https://drive.google.com/uc?export=view&id=1WUEP5Ckf3ulZ-AQPPsTtqIlmzCCJ90g-' >\n",
        "<figcaption></figcaption>\n",
        "</center>\n",
        "</figure>\n",
        "\n"
      ],
      "metadata": {
        "id": "qxk4YZ0q8tEk"
      }
    },
    {
      "cell_type": "markdown",
      "source": [
        "\n",
        "\n",
        "1.   La palabra clave `def`\n",
        "2.   El nombre de la función `suma():`\n",
        "3.   Paréntesis `()`, y dentro de los paréntesis los parámetros de entrada, aunque los parámetros de entrada sean opcionales. Una sentencia de retorno (opcional)\n",
        "4.  Algún bloque de código para ejecutar.\n",
        "5. Una sentencia de retorno (opcional).\n"
      ],
      "metadata": {
        "id": "Lp9PqiUp3tqM"
      }
    },
    {
      "cell_type": "markdown",
      "source": [
        "***función sin parámetros***"
      ],
      "metadata": {
        "id": "AuPAJZSX4fld"
      }
    },
    {
      "cell_type": "code",
      "source": [
        "def saludo():\n",
        "  print(\"Hola, Buenos días!\")"
      ],
      "metadata": {
        "id": "R8lsiwNK5Cau"
      },
      "execution_count": null,
      "outputs": []
    },
    {
      "cell_type": "code",
      "source": [
        "saludo()"
      ],
      "metadata": {
        "colab": {
          "base_uri": "https://localhost:8080/"
        },
        "id": "LmaedGk45Hfr",
        "outputId": "ee2a32b7-eac3-40b4-ce6f-b24fbdff5916"
      },
      "execution_count": null,
      "outputs": [
        {
          "output_type": "stream",
          "name": "stdout",
          "text": [
            "Hola, Buenos días!\n"
          ]
        }
      ]
    },
    {
      "cell_type": "code",
      "source": [
        "def despierte():\n",
        "    print(\"LEVANTESE\")"
      ],
      "metadata": {
        "id": "XgSNIW27F7lT"
      },
      "execution_count": null,
      "outputs": []
    },
    {
      "cell_type": "code",
      "source": [
        "despierte()"
      ],
      "metadata": {
        "colab": {
          "base_uri": "https://localhost:8080/"
        },
        "id": "_jMvM-V2GEN3",
        "outputId": "f19f2c55-8233-479a-cbeb-4f6f89ea7247"
      },
      "execution_count": null,
      "outputs": [
        {
          "output_type": "stream",
          "name": "stdout",
          "text": [
            "LEVANTESE\n"
          ]
        }
      ]
    },
    {
      "cell_type": "markdown",
      "source": [
        "***función con parámetros:*** Se pueden definir valores predeterminados para los parámetros"
      ],
      "metadata": {
        "id": "ssYsAjVS5Ydz"
      }
    },
    {
      "cell_type": "markdown",
      "source": [
        "***Ejemplo:***"
      ],
      "metadata": {
        "id": "TJgCS10_5nDB"
      }
    },
    {
      "cell_type": "code",
      "source": [
        "def f(x):\n",
        "    return x+1"
      ],
      "metadata": {
        "id": "qTqt7CIe3bNU"
      },
      "execution_count": null,
      "outputs": []
    },
    {
      "cell_type": "code",
      "source": [
        "f(6)"
      ],
      "metadata": {
        "colab": {
          "base_uri": "https://localhost:8080/",
          "height": 37
        },
        "id": "cDK80y-S5lE8",
        "outputId": "fb0337d9-a7ca-4cca-8bee-5d28a0d41bf6"
      },
      "execution_count": null,
      "outputs": [
        {
          "output_type": "execute_result",
          "data": {
            "image/png": "[encoded data removed]",
            "text/latex": "$\\displaystyle 7$",
            "text/plain": [
              "7"
            ]
          },
          "metadata": {},
          "execution_count": 26
        }
      ]
    },
    {
      "cell_type": "code",
      "source": [
        "def h(x):\n",
        "    return x**2-1\n",
        "h(6)"
      ],
      "metadata": {
        "colab": {
          "base_uri": "https://localhost:8080/",
          "height": 37
        },
        "id": "k_bk3afEGQ_g",
        "outputId": "6a32aaac-d887-4c68-9957-d9f4dacdd5f0"
      },
      "execution_count": null,
      "outputs": [
        {
          "output_type": "execute_result",
          "data": {
            "image/png": "[encoded data removed]",
            "text/latex": "$\\displaystyle 35$",
            "text/plain": [
              "35"
            ]
          },
          "metadata": {},
          "execution_count": 28
        }
      ]
    },
    {
      "cell_type": "markdown",
      "source": [
        "\n",
        "***Ejemplo:*** Se pueden definir valores predeterminados para los parámetros"
      ],
      "metadata": {
        "id": "JRd70Mv96BND"
      }
    },
    {
      "cell_type": "code",
      "source": [
        "def aceleracion(vf, t, vo=9.8):\n",
        "    return (vf - vo)/t"
      ],
      "metadata": {
        "id": "J_GYejx36GME"
      },
      "execution_count": null,
      "outputs": []
    },
    {
      "cell_type": "code",
      "source": [
        "aceleracion(34 , 2)"
      ],
      "metadata": {
        "colab": {
          "base_uri": "https://localhost:8080/",
          "height": 37
        },
        "id": "Yrgq0O3m6xfs",
        "outputId": "fc81fc24-64b7-44d8-a1ce-5637775e5f35"
      },
      "execution_count": null,
      "outputs": [
        {
          "output_type": "execute_result",
          "data": {
            "image/png": "[encoded data removed]",
            "text/latex": "$\\displaystyle 12.1$",
            "text/plain": [
              "12.1"
            ]
          },
          "metadata": {},
          "execution_count": 47
        }
      ]
    },
    {
      "cell_type": "code",
      "source": [
        "def gasto(x,y,z,w):\n",
        "    return x+y, y-z, w/x\n",
        "gasto(3,4,5,6)"
      ],
      "metadata": {
        "id": "aX5rmzk6GqZI"
      },
      "execution_count": null,
      "outputs": []
    },
    {
      "cell_type": "markdown",
      "source": [
        "***Ejemplo:*** Varios return en una misma función"
      ],
      "metadata": {
        "id": "s1wyXuut9mV0"
      }
    },
    {
      "cell_type": "code",
      "source": [
        "def es_par(numero):\n",
        "    if numero % 2 == 0:\n",
        "        return True\n",
        "    else:\n",
        "        return False\n",
        "    \n",
        "print(es_par(2))\n",
        "print(es_par(5))"
      ],
      "metadata": {
        "colab": {
          "base_uri": "https://localhost:8080/"
        },
        "id": "RziZi-Is9GfM",
        "outputId": "c7355866-26fc-4354-85ca-51ddf50cb2ea"
      },
      "execution_count": null,
      "outputs": [
        {
          "output_type": "stream",
          "name": "stdout",
          "text": [
            "True\n",
            "False\n"
          ]
        }
      ]
    },
    {
      "cell_type": "code",
      "source": [
        "def figura(x, y, z):\n",
        "    area = x*y\n",
        "    perimetro = 2*x + 2*y\n",
        "    volumen = x*y*z\n",
        "    return area, perimetro, volumen"
      ],
      "metadata": {
        "id": "9sl1-_6t9yAq"
      },
      "execution_count": null,
      "outputs": []
    },
    {
      "cell_type": "code",
      "source": [
        "a, p , v = figura(3,4,5)"
      ],
      "metadata": {
        "id": "gcjACUTG1EdQ"
      },
      "execution_count": null,
      "outputs": []
    },
    {
      "cell_type": "code",
      "source": [
        "print(\"El área de la figura es:\",a, \"su perimetro:\", p , \"y su volumen es:\",v)"
      ],
      "metadata": {
        "colab": {
          "base_uri": "https://localhost:8080/"
        },
        "id": "6CfUht11-IBC",
        "outputId": "b7f0a9ee-5c30-4130-ff4f-631caf28827b"
      },
      "execution_count": null,
      "outputs": [
        {
          "output_type": "stream",
          "name": "stdout",
          "text": [
            "El área de la figura es: 12 su perimetro: 14 y su volumen es: 60\n"
          ]
        }
      ]
    },
    {
      "cell_type": "markdown",
      "source": [
        "***funciones generadoras:***\n",
        "\n",
        "Una función generadora se diferencia de una función normal en que tras ejecutar el `yield`, la función devuelve el control a quién la llamó, pero la función es pausada y el estado (valor de las variables) es guardado. Esto permite que su ejecución pueda ser reanudada más adelante."
      ],
      "metadata": {
        "id": "5rzevRCnqzx5"
      }
    },
    {
      "cell_type": "code",
      "source": [
        "def gen_numbers(a):\n",
        "    yield 1 + a\n",
        "    yield 2 + a \n",
        "    yield 3 + a\n",
        "\n",
        "gen_numbers(2)\n",
        "\n",
        "for i in gen_numbers(2):\n",
        "    print(i)"
      ],
      "metadata": {
        "colab": {
          "base_uri": "https://localhost:8080/"
        },
        "id": "YvhHDG9pqyUy",
        "outputId": "15bec939-f624-486f-aeb3-12682fe83f93"
      },
      "execution_count": null,
      "outputs": [
        {
          "output_type": "stream",
          "name": "stdout",
          "text": [
            "3\n",
            "4\n",
            "5\n"
          ]
        }
      ]
    },
    {
      "cell_type": "markdown",
      "metadata": {
        "id": "dJ4-Q9JjiIFb"
      },
      "source": [
        "# ***Funciones***"
      ]
    },
    {
      "cell_type": "markdown",
      "metadata": {
        "id": "vWi45jf7nP6e"
      },
      "source": [
        "Si \n",
        "\n",
        "\n",
        "\n",
        "$$f(x)=\\dfrac{1-x^3}{-x^2+2}$$ \n",
        "\n",
        "determinar:\n",
        "\n",
        "\n",
        "\n",
        "\n",
        "*   $-f\\left(-\\dfrac{1}{2}\\right)+f\\left(-\\dfrac{1}{4}\\right)$\n",
        "\n",
        "\n",
        "\n",
        "*   $\\dfrac{f(a+h)-f(a)}{h}$\n",
        "\n",
        "\n"
      ]
    },
    {
      "cell_type": "code",
      "metadata": {
        "id": "S_E1N9vXLBg1"
      },
      "source": [
        "def f(x):\n",
        "  return (1-x**3)/(-x**2+2)"
      ],
      "execution_count": null,
      "outputs": []
    },
    {
      "cell_type": "code",
      "metadata": {
        "colab": {
          "base_uri": "https://localhost:8080/",
          "height": 55
        },
        "id": "yKgSkugymh8P",
        "outputId": "a2ebca19-820a-432b-b7ad-e86addc080ed"
      },
      "source": [
        "f(x)"
      ],
      "execution_count": null,
      "outputs": [
        {
          "output_type": "execute_result",
          "data": {
            "image/png": "[encoded data removed]",
            "text/latex": "$\\displaystyle \\frac{1 - x^{3}}{2 - x^{2}}$",
            "text/plain": [
              "     3\n",
              "1 - x \n",
              "──────\n",
              "     2\n",
              "2 - x "
            ]
          },
          "metadata": {},
          "execution_count": 31
        }
      ]
    },
    {
      "cell_type": "code",
      "metadata": {
        "colab": {
          "base_uri": "https://localhost:8080/",
          "height": 50
        },
        "id": "Vk3tjDYKnnuA",
        "outputId": "fad20046-b660-436b-b157-0d602d1bfb89"
      },
      "source": [
        "-f(Rational(-1,2))+f(Rational(-1,4))"
      ],
      "execution_count": null,
      "outputs": [
        {
          "output_type": "execute_result",
          "data": {
            "image/png": "[encoded data removed]",
            "text/latex": "$\\displaystyle - \\frac{103}{868}$",
            "text/plain": [
              "-103 \n",
              "─────\n",
              " 868 "
            ]
          },
          "metadata": {},
          "execution_count": 20
        }
      ]
    },
    {
      "cell_type": "code",
      "metadata": {
        "colab": {
          "base_uri": "https://localhost:8080/",
          "height": 37
        },
        "id": "_0f4cpCXepCt",
        "outputId": "6a278cd1-c5d7-4e05-f10b-128396b629d9"
      },
      "source": [
        "-f(-1/2)+f(-1/4)"
      ],
      "execution_count": null,
      "outputs": [
        {
          "output_type": "execute_result",
          "data": {
            "image/png": "[encoded data removed]",
            "text/latex": "$\\displaystyle -0.118663594470046$",
            "text/plain": [
              "-0.11866359447004615"
            ]
          },
          "metadata": {},
          "execution_count": 21
        }
      ]
    },
    {
      "cell_type": "code",
      "metadata": {
        "colab": {
          "base_uri": "https://localhost:8080/",
          "height": 64
        },
        "id": "XUT0a_x7msDE",
        "outputId": "3062cdd1-45a2-4f45-d6e7-633c9aa48685"
      },
      "source": [
        "(f(a+h)-f(a))/h"
      ],
      "execution_count": null,
      "outputs": [
        {
          "output_type": "execute_result",
          "data": {
            "image/png": "[encoded data removed]",
            "text/latex": "$\\displaystyle \\frac{- \\frac{1 - a^{3}}{2 - a^{2}} + \\frac{1 - \\left(a + h\\right)^{3}}{2 - \\left(a + h\\right)^{2}}}{h}$",
            "text/plain": [
              "       3              3\n",
              "  1 - a    1 - (a + h) \n",
              "- ────── + ────────────\n",
              "       2              2\n",
              "  2 - a    2 - (a + h) \n",
              "───────────────────────\n",
              "           h           "
            ]
          },
          "metadata": {},
          "execution_count": 22
        }
      ]
    },
    {
      "cell_type": "code",
      "metadata": {
        "colab": {
          "base_uri": "https://localhost:8080/",
          "height": 54
        },
        "id": "6kmEaswumwaV",
        "outputId": "fed1803c-e39e-4b81-c848-f2f55e862d37"
      },
      "source": [
        "cancel((f(a+h)-f(a))/h)"
      ],
      "execution_count": null,
      "outputs": [
        {
          "output_type": "execute_result",
          "data": {
            "image/png": "[encoded data removed]",
            "text/latex": "$\\displaystyle \\frac{a^{4} + 2 a^{3} h + a^{2} h^{2} - 6 a^{2} - 6 a h + 2 a - 2 h^{2} + h}{a^{4} + 2 a^{3} h + a^{2} h^{2} - 4 a^{2} - 4 a h - 2 h^{2} + 4}$",
            "text/plain": [
              " 4      3      2  2      2                    2    \n",
              "a  + 2⋅a ⋅h + a ⋅h  - 6⋅a  - 6⋅a⋅h + 2⋅a - 2⋅h  + h\n",
              "───────────────────────────────────────────────────\n",
              "    4      3      2  2      2              2       \n",
              "   a  + 2⋅a ⋅h + a ⋅h  - 4⋅a  - 4⋅a⋅h - 2⋅h  + 4   "
            ]
          },
          "metadata": {},
          "execution_count": 23
        }
      ]
    },
    {
      "cell_type": "markdown",
      "source": [
        "# **Funciones definidas a trozos**\n",
        "\n",
        "Graficar la función dada por\n",
        "\n",
        "$$g(x)=\\begin{cases}\n",
        "x-2, & \\text{si $x\\leq-2$},\\\\\n",
        " -2, & \\text{si $-2<x\\leq 2$},\\\\\n",
        " -x+1, & \\text{si $x>2$}\n",
        "\\end{cases}$$\n",
        "\n",
        "\n"
      ],
      "metadata": {
        "id": "bs02xBtgCkDL"
      }
    },
    {
      "cell_type": "code",
      "source": [
        "def g(x):\n",
        "    if x <=-2.0:\n",
        "        return x-2\n",
        "    elif -2.0 < x <=2.0:\n",
        "        return -2\n",
        "    else:\n",
        "        return -x+1\n",
        "g(4)"
      ],
      "metadata": {
        "colab": {
          "base_uri": "https://localhost:8080/",
          "height": 37
        },
        "id": "P2VtBq0fCvL7",
        "outputId": "b89aaf31-99dd-48b6-a7fd-587528d155db"
      },
      "execution_count": null,
      "outputs": [
        {
          "output_type": "execute_result",
          "data": {
            "image/png": "[encoded data removed]",
            "text/latex": "$\\displaystyle -3$",
            "text/plain": [
              "-3"
            ]
          },
          "metadata": {},
          "execution_count": 32
        }
      ]
    },
    {
      "cell_type": "markdown",
      "source": [
        "$$\\Large {\\color{red} { \\mathbf {Gráfica \\ \\ de \\ \\ funciones}} }$$"
      ],
      "metadata": {
        "id": "0QLAGlig8wkV"
      }
    },
    {
      "cell_type": "markdown",
      "source": [
        "# **Gráfica de funciones con NumPy**\n",
        "\n",
        "\n",
        "\n",
        "#### <center> **TABLA DE FUNCIONES BÁSICAS** </center>\n",
        "\n",
        "|    Operación Abs   | Operador |      \n",
        "|:---------------:|:--------:|\n",
        "|  Valor absoluto |    np.abs()    | \n",
        "|  Exponencial    |     np.exp()   | \n",
        "| Logaritmo natural   |     np.log()    |     \n",
        "|       seno      |     np.sin()    | \n",
        "|      coseno      |     np.cos()   | \n",
        "|       tangente      |     np.tan()    | \n",
        "|     arcoseno      |     np.arcsin()    |\n",
        "|      arcocoseno      |     np.arccos()    |\n",
        "|       arcotangente    |    np.arctan()    |\n",
        "\n",
        "\n",
        "Para una mayor información sobre las funciones matemáticas se puede consultar el tutorial de [NumpY](https://numpy.org/doc/1.20/numpy-user.pdf)"
      ],
      "metadata": {
        "id": "4WosepWrDjz7"
      }
    },
    {
      "cell_type": "markdown",
      "source": [
        "Colores usados en matplolib\n",
        "\n",
        "<figure>\n",
        "<center>\n",
        "<img src='https://drive.google.com/uc?export=view&id=1IQWq-6xAtzPjXFwNEzWwWrJvbk0m8W0j' />\n",
        "<figcaption>Image Caption</figcaption>\n",
        "</center>\n",
        "</figure>\n",
        "\n"
      ],
      "metadata": {
        "id": "gfhRYi2cDo-c"
      }
    },
    {
      "cell_type": "markdown",
      "metadata": {
        "id": "fZMRu0Up8x59"
      },
      "source": [
        "# ***Gráfica de funciones***\n"
      ]
    },
    {
      "cell_type": "markdown",
      "source": [
        "\n",
        "### **Ejemplo 1** \n",
        "\n",
        "$$f(x)=\\sin x$$"
      ],
      "metadata": {
        "id": "dR7myyZCuMRQ"
      }
    },
    {
      "cell_type": "code",
      "source": [
        "import pylab as pl\n",
        "import numpy as np\n",
        "from matplotlib import pyplot as plt\n",
        "\n",
        "plt.figure(figsize=(6,6))\n",
        "\n",
        "X = np.linspace(-np.pi, np.pi, 500, endpoint=True)\n",
        "A = np.sin(X)\n",
        "\n",
        "pl.plot(X,A)\n",
        "plt.grid(True)\n",
        "pl.show()"
      ],
      "metadata": {
        "colab": {
          "base_uri": "https://localhost:8080/",
          "height": 374
        },
        "id": "-blB5w-ODMTA",
        "outputId": "5095e474-facf-4575-905d-66d728fec24c"
      },
      "execution_count": null,
      "outputs": [
        {
          "output_type": "display_data",
          "data": {
            "image/png": "[encoded data removed]",
            "text/plain": [
              "<Figure size 432x432 with 1 Axes>"
            ]
          },
          "metadata": {
            "needs_background": "light"
          }
        }
      ]
    },
    {
      "cell_type": "markdown",
      "source": [
        "\n",
        "### **Ejemplo 2**\n",
        "\n",
        "\n",
        "$$f(x)=\\sin x$$\n",
        "\n",
        "$$g(x)=\\sin \\left(x-\\frac{\\pi}{3}\\right)$$\n",
        "\n",
        "$$h(x)=\\frac{1}{2}\\sin \\left(x-\\frac{\\pi}{3}\\right)$$"
      ],
      "metadata": {
        "id": "xuwz3OoRu3Zo"
      }
    },
    {
      "cell_type": "code",
      "source": [
        "plt.figure(figsize=(6,6))\n",
        "\n",
        "X = np.linspace(-np.pi, np.pi, 256, endpoint=True)\n",
        "A, B, C = np.sin(X), np.sin(X-np.pi/3), 1/2*(np.sin(X-np.pi/3))\n",
        "\n",
        "pl.plot(X, A)\n",
        "pl.plot(X, B)\n",
        "pl.plot(X, C)\n",
        "\n",
        "plt.grid(True)\n",
        "pl.show()"
      ],
      "metadata": {
        "colab": {
          "base_uri": "https://localhost:8080/",
          "height": 738
        },
        "id": "rKayw0oCD9FR",
        "outputId": "79b83c69-3975-46f1-bc3a-270d49fd56ac"
      },
      "execution_count": null,
      "outputs": [
        {
          "output_type": "error",
          "ename": "ValueError",
          "evalue": "ignored",
          "traceback": [
            "\u001b[0;31m---------------------------------------------------------------------------\u001b[0m",
            "\u001b[0;31mValueError\u001b[0m                                Traceback (most recent call last)",
            "\u001b[0;32m<ipython-input-40-37e6372ce803>\u001b[0m in \u001b[0;36m<module>\u001b[0;34m()\u001b[0m\n\u001b[1;32m      6\u001b[0m \u001b[0mpl\u001b[0m\u001b[0;34m.\u001b[0m\u001b[0mplot\u001b[0m\u001b[0;34m(\u001b[0m\u001b[0mX\u001b[0m\u001b[0;34m,\u001b[0m \u001b[0mA\u001b[0m\u001b[0;34m)\u001b[0m\u001b[0;34m\u001b[0m\u001b[0;34m\u001b[0m\u001b[0m\n\u001b[1;32m      7\u001b[0m \u001b[0mpl\u001b[0m\u001b[0;34m.\u001b[0m\u001b[0mplot\u001b[0m\u001b[0;34m(\u001b[0m\u001b[0mX\u001b[0m\u001b[0;34m,\u001b[0m \u001b[0mB\u001b[0m\u001b[0;34m)\u001b[0m\u001b[0;34m\u001b[0m\u001b[0;34m\u001b[0m\u001b[0m\n\u001b[0;32m----> 8\u001b[0;31m \u001b[0mpl\u001b[0m\u001b[0;34m.\u001b[0m\u001b[0mplot\u001b[0m\u001b[0;34m(\u001b[0m\u001b[0mx\u001b[0m\u001b[0;34m,\u001b[0m \u001b[0mC\u001b[0m\u001b[0;34m)\u001b[0m\u001b[0;34m\u001b[0m\u001b[0;34m\u001b[0m\u001b[0m\n\u001b[0m\u001b[1;32m      9\u001b[0m \u001b[0;34m\u001b[0m\u001b[0m\n\u001b[1;32m     10\u001b[0m \u001b[0mplt\u001b[0m\u001b[0;34m.\u001b[0m\u001b[0mgrid\u001b[0m\u001b[0;34m(\u001b[0m\u001b[0;32mTrue\u001b[0m\u001b[0;34m)\u001b[0m\u001b[0;34m\u001b[0m\u001b[0;34m\u001b[0m\u001b[0m\n",
            "\u001b[0;32m/usr/local/lib/python3.7/dist-packages/matplotlib/pyplot.py\u001b[0m in \u001b[0;36mplot\u001b[0;34m(scalex, scaley, data, *args, **kwargs)\u001b[0m\n\u001b[1;32m   2761\u001b[0m     return gca().plot(\n\u001b[1;32m   2762\u001b[0m         *args, scalex=scalex, scaley=scaley, **({\"data\": data} if data\n\u001b[0;32m-> 2763\u001b[0;31m         is not None else {}), **kwargs)\n\u001b[0m\u001b[1;32m   2764\u001b[0m \u001b[0;34m\u001b[0m\u001b[0m\n\u001b[1;32m   2765\u001b[0m \u001b[0;34m\u001b[0m\u001b[0m\n",
            "\u001b[0;32m/usr/local/lib/python3.7/dist-packages/matplotlib/axes/_axes.py\u001b[0m in \u001b[0;36mplot\u001b[0;34m(self, scalex, scaley, data, *args, **kwargs)\u001b[0m\n\u001b[1;32m   1645\u001b[0m         \"\"\"\n\u001b[1;32m   1646\u001b[0m         \u001b[0mkwargs\u001b[0m \u001b[0;34m=\u001b[0m \u001b[0mcbook\u001b[0m\u001b[0;34m.\u001b[0m\u001b[0mnormalize_kwargs\u001b[0m\u001b[0;34m(\u001b[0m\u001b[0mkwargs\u001b[0m\u001b[0;34m,\u001b[0m \u001b[0mmlines\u001b[0m\u001b[0;34m.\u001b[0m\u001b[0mLine2D\u001b[0m\u001b[0;34m)\u001b[0m\u001b[0;34m\u001b[0m\u001b[0;34m\u001b[0m\u001b[0m\n\u001b[0;32m-> 1647\u001b[0;31m         \u001b[0mlines\u001b[0m \u001b[0;34m=\u001b[0m \u001b[0;34m[\u001b[0m\u001b[0;34m*\u001b[0m\u001b[0mself\u001b[0m\u001b[0;34m.\u001b[0m\u001b[0m_get_lines\u001b[0m\u001b[0;34m(\u001b[0m\u001b[0;34m*\u001b[0m\u001b[0margs\u001b[0m\u001b[0;34m,\u001b[0m \u001b[0mdata\u001b[0m\u001b[0;34m=\u001b[0m\u001b[0mdata\u001b[0m\u001b[0;34m,\u001b[0m \u001b[0;34m**\u001b[0m\u001b[0mkwargs\u001b[0m\u001b[0;34m)\u001b[0m\u001b[0;34m]\u001b[0m\u001b[0;34m\u001b[0m\u001b[0;34m\u001b[0m\u001b[0m\n\u001b[0m\u001b[1;32m   1648\u001b[0m         \u001b[0;32mfor\u001b[0m \u001b[0mline\u001b[0m \u001b[0;32min\u001b[0m \u001b[0mlines\u001b[0m\u001b[0;34m:\u001b[0m\u001b[0;34m\u001b[0m\u001b[0;34m\u001b[0m\u001b[0m\n\u001b[1;32m   1649\u001b[0m             \u001b[0mself\u001b[0m\u001b[0;34m.\u001b[0m\u001b[0madd_line\u001b[0m\u001b[0;34m(\u001b[0m\u001b[0mline\u001b[0m\u001b[0;34m)\u001b[0m\u001b[0;34m\u001b[0m\u001b[0;34m\u001b[0m\u001b[0m\n",
            "\u001b[0;32m/usr/local/lib/python3.7/dist-packages/matplotlib/axes/_base.py\u001b[0m in \u001b[0;36m__call__\u001b[0;34m(self, *args, **kwargs)\u001b[0m\n\u001b[1;32m    214\u001b[0m                 \u001b[0mthis\u001b[0m \u001b[0;34m+=\u001b[0m \u001b[0margs\u001b[0m\u001b[0;34m[\u001b[0m\u001b[0;36m0\u001b[0m\u001b[0;34m]\u001b[0m\u001b[0;34m,\u001b[0m\u001b[0;34m\u001b[0m\u001b[0;34m\u001b[0m\u001b[0m\n\u001b[1;32m    215\u001b[0m                 \u001b[0margs\u001b[0m \u001b[0;34m=\u001b[0m \u001b[0margs\u001b[0m\u001b[0;34m[\u001b[0m\u001b[0;36m1\u001b[0m\u001b[0;34m:\u001b[0m\u001b[0;34m]\u001b[0m\u001b[0;34m\u001b[0m\u001b[0;34m\u001b[0m\u001b[0m\n\u001b[0;32m--> 216\u001b[0;31m             \u001b[0;32myield\u001b[0m \u001b[0;32mfrom\u001b[0m \u001b[0mself\u001b[0m\u001b[0;34m.\u001b[0m\u001b[0m_plot_args\u001b[0m\u001b[0;34m(\u001b[0m\u001b[0mthis\u001b[0m\u001b[0;34m,\u001b[0m \u001b[0mkwargs\u001b[0m\u001b[0;34m)\u001b[0m\u001b[0;34m\u001b[0m\u001b[0;34m\u001b[0m\u001b[0m\n\u001b[0m\u001b[1;32m    217\u001b[0m \u001b[0;34m\u001b[0m\u001b[0m\n\u001b[1;32m    218\u001b[0m     \u001b[0;32mdef\u001b[0m \u001b[0mget_next_color\u001b[0m\u001b[0;34m(\u001b[0m\u001b[0mself\u001b[0m\u001b[0;34m)\u001b[0m\u001b[0;34m:\u001b[0m\u001b[0;34m\u001b[0m\u001b[0;34m\u001b[0m\u001b[0m\n",
            "\u001b[0;32m/usr/local/lib/python3.7/dist-packages/matplotlib/axes/_base.py\u001b[0m in \u001b[0;36m_plot_args\u001b[0;34m(self, tup, kwargs)\u001b[0m\n\u001b[1;32m    340\u001b[0m \u001b[0;34m\u001b[0m\u001b[0m\n\u001b[1;32m    341\u001b[0m         \u001b[0;32mif\u001b[0m \u001b[0mx\u001b[0m\u001b[0;34m.\u001b[0m\u001b[0mshape\u001b[0m\u001b[0;34m[\u001b[0m\u001b[0;36m0\u001b[0m\u001b[0;34m]\u001b[0m \u001b[0;34m!=\u001b[0m \u001b[0my\u001b[0m\u001b[0;34m.\u001b[0m\u001b[0mshape\u001b[0m\u001b[0;34m[\u001b[0m\u001b[0;36m0\u001b[0m\u001b[0;34m]\u001b[0m\u001b[0;34m:\u001b[0m\u001b[0;34m\u001b[0m\u001b[0;34m\u001b[0m\u001b[0m\n\u001b[0;32m--> 342\u001b[0;31m             raise ValueError(f\"x and y must have same first dimension, but \"\n\u001b[0m\u001b[1;32m    343\u001b[0m                              f\"have shapes {x.shape} and {y.shape}\")\n\u001b[1;32m    344\u001b[0m         \u001b[0;32mif\u001b[0m \u001b[0mx\u001b[0m\u001b[0;34m.\u001b[0m\u001b[0mndim\u001b[0m \u001b[0;34m>\u001b[0m \u001b[0;36m2\u001b[0m \u001b[0;32mor\u001b[0m \u001b[0my\u001b[0m\u001b[0;34m.\u001b[0m\u001b[0mndim\u001b[0m \u001b[0;34m>\u001b[0m \u001b[0;36m2\u001b[0m\u001b[0;34m:\u001b[0m\u001b[0;34m\u001b[0m\u001b[0;34m\u001b[0m\u001b[0m\n",
            "\u001b[0;31mValueError\u001b[0m: x and y must have same first dimension, but have shapes (1,) and (256,)"
          ]
        },
        {
          "output_type": "display_data",
          "data": {
            "image/png": "[encoded data removed]",
            "text/plain": [
              "<Figure size 432x432 with 1 Axes>"
            ]
          },
          "metadata": {
            "needs_background": "light"
          }
        }
      ]
    },
    {
      "cell_type": "markdown",
      "source": [
        "### **Ejemplo 3**\n",
        "\n",
        "$$y_1 = \\cos x$$\n",
        "$$y_2 = \\sin x$$"
      ],
      "metadata": {
        "id": "tLWTWMXjFJdK"
      }
    },
    {
      "cell_type": "code",
      "source": [
        "import matplotlib.pyplot as plt\n",
        "import numpy as np\n",
        "\n",
        "x = np.arange(0,10,0.2)\n",
        "y1 = np.cos(x)\n",
        "y2 = np.sin(x)\n",
        "\n",
        "plt.plot(x,y1,'o',linewidth=3,color='green')\n",
        "plt.plot(x,y2,'-',linewidth=2,color='olive')\n",
        "plt.grid()\n",
        "plt.axis('equal')\n",
        "plt.xlabel('x')\n",
        "plt.ylabel('y')\n",
        "plt.title('Lab DLS')\n",
        "plt.show()"
      ],
      "metadata": {
        "colab": {
          "base_uri": "https://localhost:8080/",
          "height": 294
        },
        "id": "vP9kbiw4FMhY",
        "outputId": "b99e2636-17ff-4cce-faa5-b8e9f73fa6fa"
      },
      "execution_count": null,
      "outputs": [
        {
          "output_type": "display_data",
          "data": {
            "image/png": "[encoded data removed]",
            "text/plain": [
              "<Figure size 432x288 with 1 Axes>"
            ]
          },
          "metadata": {
            "needs_background": "light"
          }
        }
      ]
    },
    {
      "cell_type": "markdown",
      "source": [
        "### **Ejemplo 4**"
      ],
      "metadata": {
        "id": "9Y_9ob73HZew"
      }
    },
    {
      "cell_type": "code",
      "source": [
        "import pylab as pl\n",
        "import numpy as np\n",
        "from matplotlib import pyplot as plt\n",
        "\n",
        "plt.figure(figsize=(6,7))\n",
        "\n",
        "X = np.linspace(-2*np.pi, 2*np.pi, 500, endpoint=True)\n",
        "S, T, A =  np.cos(X), np.cos(X-np.pi/3), np.cos(X-np.pi/3)+1\n",
        "\n",
        "# Para colocar el nombre a cada uno de los ejes\n",
        "plt.xlabel(\"abscisa\") \n",
        "plt.ylabel(\"ordenada\") \n",
        "\n",
        "#lw: para cambiar el grosor del gráfico\n",
        "\n",
        "pl.plot(X, S, label = \"$f(x)$\", lw=5 )\n",
        "pl.plot(X, T, label = \"$g(x)$\", lw=5)\n",
        "pl.plot(X, A, label = \"$h(x)$\", lw=5)\n",
        "\n",
        "plt.grid(linestyle='--', linewidth=0.8)\n",
        "plt.legend()\n",
        "pl.xticks([-2*np.pi,-3*np.pi/2,-np.pi, -np.pi/2, 0, np.pi/2, np.pi, 3*np.pi/2,2*np.pi],\n",
        "          [r'$-2 \\pi$', r'$-3\\pi/2$',r'$-\\pi/2$',r'$-\\pi$',  r'$0$', r'$+\\pi/2$', r'$+\\pi$', r'$+3\\pi/2$',r'$2\\pi$'])\n",
        "pl.yticks([-3, -2,-1,0, +1, +2, +3],\n",
        "        [r'-$3$',r'-$2$',r'-$1$', r'$0$', r'$+1$',r'$2$',r'$3$'])\n",
        "\n",
        "pl.show()"
      ],
      "metadata": {
        "colab": {
          "base_uri": "https://localhost:8080/",
          "height": 450
        },
        "id": "u7RrmwseHW9Z",
        "outputId": "8b884a26-f629-40f3-956b-b122488734bb"
      },
      "execution_count": null,
      "outputs": [
        {
          "output_type": "display_data",
          "data": {
            "image/png": "[encoded data removed]",
            "text/plain": [
              "<Figure size 504x504 with 1 Axes>"
            ]
          },
          "metadata": {
            "needs_background": "light"
          }
        }
      ]
    },
    {
      "cell_type": "markdown",
      "source": [
        "# **Ejemplo 5**\n",
        "\n",
        "Graficar la función dada por\n",
        "\n",
        "$$g(x)=\\begin{cases}\n",
        "x-2, & \\text{si $x\\leq-2$},\\\\\n",
        " -2, & \\text{si $-2<x\\leq 2$},\\\\\n",
        " -x+1, & \\text{si $x>2$}\n",
        "\\end{cases}$$\n"
      ],
      "metadata": {
        "id": "reFw1BLSLVCB"
      }
    },
    {
      "cell_type": "code",
      "source": [
        "def g(x):\n",
        "    if x <=-2.0:\n",
        "        return x-2\n",
        "    elif -2.0 < x <=2.0:\n",
        "        return -2\n",
        "    else:\n",
        "        return -x+1"
      ],
      "metadata": {
        "id": "0p-jlR1gLdxY"
      },
      "execution_count": null,
      "outputs": []
    },
    {
      "cell_type": "code",
      "source": [
        "import numpy as np\n",
        "import matplotlib.pyplot as plt\n",
        "\n",
        "plt.figure(figsize=(7,7)) #tamaño de la figura\n",
        "\n",
        "x1=np.linspace(-6,-2,100)\n",
        "x2=np.linspace(-2,2,100)\n",
        "x3=np.linspace(2,6,100)\n",
        "\n",
        "plt.xlabel(\"$x$\") \n",
        "plt.ylabel(\"$g(x)$\") \n",
        "\n",
        "plt.grid(True)\n",
        "\n",
        "plt.plot(x1,[x-2 for x in x1],'-',lw=3,color=\"red\")\n",
        "plt.plot(x2,[-2 for x in x2],'-',lw=3,color=\"red\")\n",
        "plt.plot(x3,[-x+1 for x in x3],'-',lw=3,color=\"red\")\n",
        "\n",
        "plt.plot(-2, -4, 'ro', markersize=8, fillstyle='none', markerfacecolor='r') #bolita cerrada\n",
        "plt.plot(-2, -2, 'ro', markersize=8, fillstyle='none', markerfacecolor='w') #bolita abierta\n",
        "plt.plot(2, -2, 'ro', markersize=8, fillstyle='none', markerfacecolor='r')\n",
        "plt.plot(2, -1, 'ro', markersize=8, fillstyle='none', markerfacecolor='w')\n",
        "\n",
        "plt.show()"
      ],
      "metadata": {
        "colab": {
          "base_uri": "https://localhost:8080/",
          "height": 442
        },
        "id": "q7FHWYd0Lh2H",
        "outputId": "a4267187-c7d6-4a71-9c2b-93bb8fe14c47"
      },
      "execution_count": null,
      "outputs": [
        {
          "output_type": "display_data",
          "data": {
            "image/png": "[encoded data removed]",
            "text/plain": [
              "<Figure size 504x504 with 1 Axes>"
            ]
          },
          "metadata": {
            "needs_background": "light"
          }
        }
      ]
    },
    {
      "cell_type": "markdown",
      "source": [
        "### **Ejemplo** Gráficas en 3D"
      ],
      "metadata": {
        "id": "D7bfcpXGGxvJ"
      }
    },
    {
      "cell_type": "code",
      "metadata": {
        "id": "B8S56I3ufhaP",
        "colab": {
          "base_uri": "https://localhost:8080/",
          "height": 318
        },
        "outputId": "8d8528de-625f-41a4-db92-28cd98f339e5"
      },
      "source": [
        "from mpl_toolkits.mplot3d import Axes3D\n",
        "\n",
        "fig = pl.figure()\n",
        "ax = Axes3D(fig)\n",
        "X = np.arange(-4, 4, 0.25)\n",
        "Y = np.arange(-4, 4, 0.25)\n",
        "X, Y = np.meshgrid(X, Y)\n",
        "R = np.sqrt(X**2 + Y**2)\n",
        "Z = np.sin(R)\n",
        "\n",
        "ax.plot_surface(X, Y, Z, rstride=1, cstride=1, cmap='hot');"
      ],
      "execution_count": null,
      "outputs": [
        {
          "output_type": "display_data",
          "data": {
            "image/png": "[encoded data removed]",
            "text/plain": [
              "<Figure size 432x288 with 1 Axes>"
            ]
          },
          "metadata": {
            "needs_background": "light"
          }
        }
      ]
    },
    {
      "cell_type": "markdown",
      "source": [
        "# **Invert Axes**"
      ],
      "metadata": {
        "id": "ebtQcFfKIv2h"
      }
    },
    {
      "cell_type": "code",
      "source": [
        "import matplotlib.pyplot as plt\n",
        "import numpy as np\n",
        "\n",
        "t = np.arange(0.01, 5.0, 0.01)\n",
        "s = np.exp(-t)\n",
        "\n",
        "fig, ax = plt.subplots()\n",
        "\n",
        "ax.plot(t, s)\n",
        "ax.set_xlim(15, 0)  # decreasing time\n",
        "ax.set_xlabel('decreasing time (s)')\n",
        "ax.set_ylabel('voltage (mV)')\n",
        "ax.set_title('Should be growing...')\n",
        "ax.grid(True)\n",
        "\n",
        "plt.show()"
      ],
      "metadata": {
        "colab": {
          "base_uri": "https://localhost:8080/",
          "height": 295
        },
        "id": "1QfpW7O9Iw9I",
        "outputId": "b54aa4f8-5e3e-4c21-dfda-04d9be693fc2"
      },
      "execution_count": null,
      "outputs": [
        {
          "output_type": "display_data",
          "data": {
            "image/png": "[encoded data removed]",
            "text/plain": [
              "<Figure size 432x288 with 1 Axes>"
            ]
          },
          "metadata": {
            "needs_background": "light"
          }
        }
      ]
    },
    {
      "cell_type": "markdown",
      "source": [
        "### **Otros Ejemplos**"
      ],
      "metadata": {
        "id": "bxqZ3ZMIISh6"
      }
    },
    {
      "cell_type": "code",
      "source": [
        "# Importar el módulo pyplot con el alias plt\n",
        "import matplotlib.pyplot as plt\n",
        "# Crear la figura y los ejes\n",
        "fig, ax = plt.subplots()\n",
        "# Dibujar puntos\n",
        "ax.scatter(x = [1, 2, 3], y = [3, 2, 1])\n",
        "# Guardar el gráfico en formato png\n",
        "plt.savefig('diagrama-dispersion.png')\n",
        "# Mostrar el gráfico\n",
        "plt.show()"
      ],
      "metadata": {
        "colab": {
          "base_uri": "https://localhost:8080/",
          "height": 265
        },
        "id": "0k2-CnTeAGtg",
        "outputId": "5159e4f2-95e7-4989-ea6d-fe80896c08f4"
      },
      "execution_count": null,
      "outputs": [
        {
          "output_type": "display_data",
          "data": {
            "image/png": "[encoded data removed]",
            "text/plain": [
              "<Figure size 432x288 with 1 Axes>"
            ]
          },
          "metadata": {
            "needs_background": "light"
          }
        }
      ]
    },
    {
      "cell_type": "code",
      "source": [
        "import matplotlib.pyplot as plt\n",
        "fig, ax = plt.subplots(2, 2, sharey = True)\n",
        "dias = ['L', 'M', 'X', 'J', 'V', 'S', 'D']\n",
        "temperaturas = {'Madrid':[28.5, 30.5, 31, 30, 28, 27.5, 30.5], 'Barcelona':[24.5, 25.5, 26.5, 25, 26.5, 24.5, 25]}\n",
        "ax[0, 0].plot(dias, temperaturas['Madrid'])\n",
        "ax[0, 1].plot(dias, temperaturas['Barcelona'], color = 'tab:orange')\n",
        "ax[1, 0].bar(dias, temperaturas['Madrid'])\n",
        "ax[1, 1].bar(dias, temperaturas['Barcelona'], color = 'tab:orange')\n",
        "plt.show()"
      ],
      "metadata": {
        "colab": {
          "base_uri": "https://localhost:8080/",
          "height": 265
        },
        "id": "n-q4Spr2Hpnv",
        "outputId": "d0eb1421-f38c-46b6-e4bc-4e54f02920c1"
      },
      "execution_count": null,
      "outputs": [
        {
          "output_type": "display_data",
          "data": {
            "image/png": "[encoded data removed]",
            "text/plain": [
              "<Figure size 432x288 with 4 Axes>"
            ]
          },
          "metadata": {
            "needs_background": "light"
          }
        }
      ]
    },
    {
      "cell_type": "markdown",
      "source": [
        "# **¿Cómo descargar las imágenes?**"
      ],
      "metadata": {
        "id": "3WrnwMZbI6GA"
      }
    },
    {
      "cell_type": "code",
      "source": [
        "import pylab as pl\n",
        "import numpy as np\n",
        "from matplotlib import pyplot as plt\n",
        "from google.colab import files # para bajar imágenes\n",
        "\n",
        "plt.figure(figsize=(1,1))\n",
        "\n",
        "X = np.linspace(-2*np.pi, 2*np.pi, 256, endpoint=True) # dominio\n",
        "C, S = np.cos(X), np.sin(X)\n",
        "\n",
        "pl.plot(X, C)\n",
        "pl.plot(X, S)\n",
        "\n",
        "plt.grid(True)\n",
        "\n",
        "\n",
        "#Para guardar la imagén\n",
        "plt.savefig(\"miprimeragrafica1.svg\")\n",
        "\n",
        "plt.show()\n",
        "\n",
        "#para descargar la imagén\n",
        "files.download(\"miprimeragrafica1.svg\")"
      ],
      "metadata": {
        "colab": {
          "base_uri": "https://localhost:8080/",
          "height": 104
        },
        "id": "afXPOhTnHtP_",
        "outputId": "ff25045a-cd2e-40da-c13f-36899611953b"
      },
      "execution_count": null,
      "outputs": [
        {
          "output_type": "display_data",
          "data": {
            "image/png": "[encoded data removed]",
            "text/plain": [
              "<Figure size 72x72 with 1 Axes>"
            ]
          },
          "metadata": {
            "needs_background": "light"
          }
        },
        {
          "output_type": "display_data",
          "data": {
            "application/javascript": [
              "\n",
              "    async function download(id, filename, size) {\n",
              "      if (!google.colab.kernel.accessAllowed) {\n",
              "        return;\n",
              "      }\n",
              "      const div = document.createElement('div');\n",
              "      const label = document.createElement('label');\n",
              "      label.textContent = `Downloading \"${filename}\": `;\n",
              "      div.appendChild(label);\n",
              "      const progress = document.createElement('progress');\n",
              "      progress.max = size;\n",
              "      div.appendChild(progress);\n",
              "      document.body.appendChild(div);\n",
              "\n",
              "      const buffers = [];\n",
              "      let downloaded = 0;\n",
              "\n",
              "      const channel = await google.colab.kernel.comms.open(id);\n",
              "      // Send a message to notify the kernel that we're ready.\n",
              "      channel.send({})\n",
              "\n",
              "      for await (const message of channel.messages) {\n",
              "        // Send a message to notify the kernel that we're ready.\n",
              "        channel.send({})\n",
              "        if (message.buffers) {\n",
              "          for (const buffer of message.buffers) {\n",
              "            buffers.push(buffer);\n",
              "            downloaded += buffer.byteLength;\n",
              "            progress.value = downloaded;\n",
              "          }\n",
              "        }\n",
              "      }\n",
              "      const blob = new Blob(buffers, {type: 'application/binary'});\n",
              "      const a = document.createElement('a');\n",
              "      a.href = window.URL.createObjectURL(blob);\n",
              "      a.download = filename;\n",
              "      div.appendChild(a);\n",
              "      a.click();\n",
              "      div.remove();\n",
              "    }\n",
              "  "
            ],
            "text/plain": [
              "<IPython.core.display.Javascript object>"
            ]
          },
          "metadata": {}
        },
        {
          "output_type": "display_data",
          "data": {
            "application/javascript": [
              "download(\"download_6becfc91-e24c-443e-b2b0-e870515eac4d\", \"miprimeragrafica1.svg\", 10073)"
            ],
            "text/plain": [
              "<IPython.core.display.Javascript object>"
            ]
          },
          "metadata": {}
        }
      ]
    },
    {
      "cell_type": "markdown",
      "source": [
        "# **Aplicaciones en tratamiento de datos:**"
      ],
      "metadata": {
        "id": "ypMb1uMI3hUv"
      }
    },
    {
      "cell_type": "code",
      "source": [
        "import pandas as pd"
      ],
      "metadata": {
        "id": "XeEtm7-x3t3b"
      },
      "execution_count": null,
      "outputs": []
    },
    {
      "cell_type": "code",
      "source": [
        "df = pd.DataFrame({\"A\":np.random.randint(1,80,10),\"B\": np.random.randint(-67,110,10),\"C\":np.random.uniform(70, 188, 10), \"D\": np.random.randint(10,20,10)})\n",
        "df"
      ],
      "metadata": {
        "id": "6IEMVI5IuAXJ",
        "outputId": "175a89fa-785b-471e-f77d-f95630763e4d",
        "colab": {
          "base_uri": "https://localhost:8080/",
          "height": 363
        }
      },
      "execution_count": null,
      "outputs": [
        {
          "output_type": "execute_result",
          "data": {
            "text/html": [
              "\n",
              "  <div id=\"df-9c7aa30f-2c54-43d9-906d-7ef5cf557ee8\">\n",
              "    <div class=\"colab-df-container\">\n",
              "      <div>\n",
              "<style scoped>\n",
              "    .dataframe tbody tr th:only-of-type {\n",
              "        vertical-align: middle;\n",
              "    }\n",
              "\n",
              "    .dataframe tbody tr th {\n",
              "        vertical-align: top;\n",
              "    }\n",
              "\n",
              "    .dataframe thead th {\n",
              "        text-align: right;\n",
              "    }\n",
              "</style>\n",
              "<table border=\"1\" class=\"dataframe\">\n",
              "  <thead>\n",
              "    <tr style=\"text-align: right;\">\n",
              "      <th></th>\n",
              "      <th>A</th>\n",
              "      <th>B</th>\n",
              "      <th>C</th>\n",
              "      <th>D</th>\n",
              "    </tr>\n",
              "  </thead>\n",
              "  <tbody>\n",
              "    <tr>\n",
              "      <th>0</th>\n",
              "      <td>9</td>\n",
              "      <td>-20</td>\n",
              "      <td>77.642773</td>\n",
              "      <td>12</td>\n",
              "    </tr>\n",
              "    <tr>\n",
              "      <th>1</th>\n",
              "      <td>55</td>\n",
              "      <td>32</td>\n",
              "      <td>129.826880</td>\n",
              "      <td>19</td>\n",
              "    </tr>\n",
              "    <tr>\n",
              "      <th>2</th>\n",
              "      <td>68</td>\n",
              "      <td>-37</td>\n",
              "      <td>143.054409</td>\n",
              "      <td>17</td>\n",
              "    </tr>\n",
              "    <tr>\n",
              "      <th>3</th>\n",
              "      <td>78</td>\n",
              "      <td>-21</td>\n",
              "      <td>102.172845</td>\n",
              "      <td>12</td>\n",
              "    </tr>\n",
              "    <tr>\n",
              "      <th>4</th>\n",
              "      <td>73</td>\n",
              "      <td>-46</td>\n",
              "      <td>127.332667</td>\n",
              "      <td>12</td>\n",
              "    </tr>\n",
              "    <tr>\n",
              "      <th>5</th>\n",
              "      <td>24</td>\n",
              "      <td>-26</td>\n",
              "      <td>125.446470</td>\n",
              "      <td>19</td>\n",
              "    </tr>\n",
              "    <tr>\n",
              "      <th>6</th>\n",
              "      <td>43</td>\n",
              "      <td>44</td>\n",
              "      <td>167.732371</td>\n",
              "      <td>11</td>\n",
              "    </tr>\n",
              "    <tr>\n",
              "      <th>7</th>\n",
              "      <td>40</td>\n",
              "      <td>-13</td>\n",
              "      <td>153.192995</td>\n",
              "      <td>17</td>\n",
              "    </tr>\n",
              "    <tr>\n",
              "      <th>8</th>\n",
              "      <td>55</td>\n",
              "      <td>39</td>\n",
              "      <td>73.319170</td>\n",
              "      <td>14</td>\n",
              "    </tr>\n",
              "    <tr>\n",
              "      <th>9</th>\n",
              "      <td>58</td>\n",
              "      <td>40</td>\n",
              "      <td>172.304070</td>\n",
              "      <td>19</td>\n",
              "    </tr>\n",
              "  </tbody>\n",
              "</table>\n",
              "</div>\n",
              "      <button class=\"colab-df-convert\" onclick=\"convertToInteractive('df-9c7aa30f-2c54-43d9-906d-7ef5cf557ee8')\"\n",
              "              title=\"Convert this dataframe to an interactive table.\"\n",
              "              style=\"display:none;\">\n",
              "        \n",
              "  <svg xmlns=\"http://www.w3.org/2000/svg\" height=\"24px\"viewBox=\"0 0 24 24\"\n",
              "       width=\"24px\">\n",
              "    <path d=\"M0 0h24v24H0V0z\" fill=\"none\"/>\n",
              "    <path d=\"M18.56 5.44l.94 2.06.94-2.06 2.06-.94-2.06-.94-.94-2.06-.94 2.06-2.06.94zm-11 1L8.5 8.5l.94-2.06 2.06-.94-2.06-.94L8.5 2.5l-.94 2.06-2.06.94zm10 10l.94 2.06.94-2.06 2.06-.94-2.06-.94-.94-2.06-.94 2.06-2.06.94z\"/><path d=\"M17.41 7.96l-1.37-1.37c-.4-.4-.92-.59-1.43-.59-.52 0-1.04.2-1.43.59L10.3 9.45l-7.72 7.72c-.78.78-.78 2.05 0 2.83L4 21.41c.39.39.9.59 1.41.59.51 0 1.02-.2 1.41-.59l7.78-7.78 2.81-2.81c.8-.78.8-2.07 0-2.86zM5.41 20L4 18.59l7.72-7.72 1.47 1.35L5.41 20z\"/>\n",
              "  </svg>\n",
              "      </button>\n",
              "      \n",
              "  <style>\n",
              "    .colab-df-container {\n",
              "      display:flex;\n",
              "      flex-wrap:wrap;\n",
              "      gap: 12px;\n",
              "    }\n",
              "\n",
              "    .colab-df-convert {\n",
              "      background-color: #E8F0FE;\n",
              "      border: none;\n",
              "      border-radius: 50%;\n",
              "      cursor: pointer;\n",
              "      display: none;\n",
              "      fill: #1967D2;\n",
              "      height: 32px;\n",
              "      padding: 0 0 0 0;\n",
              "      width: 32px;\n",
              "    }\n",
              "\n",
              "    .colab-df-convert:hover {\n",
              "      background-color: #E2EBFA;\n",
              "      box-shadow: 0px 1px 2px rgba(60, 64, 67, 0.3), 0px 1px 3px 1px rgba(60, 64, 67, 0.15);\n",
              "      fill: #174EA6;\n",
              "    }\n",
              "\n",
              "    [theme=dark] .colab-df-convert {\n",
              "      background-color: #3B4455;\n",
              "      fill: #D2E3FC;\n",
              "    }\n",
              "\n",
              "    [theme=dark] .colab-df-convert:hover {\n",
              "      background-color: #434B5C;\n",
              "      box-shadow: 0px 1px 3px 1px rgba(0, 0, 0, 0.15);\n",
              "      filter: drop-shadow(0px 1px 2px rgba(0, 0, 0, 0.3));\n",
              "      fill: #FFFFFF;\n",
              "    }\n",
              "  </style>\n",
              "\n",
              "      <script>\n",
              "        const buttonEl =\n",
              "          document.querySelector('#df-9c7aa30f-2c54-43d9-906d-7ef5cf557ee8 button.colab-df-convert');\n",
              "        buttonEl.style.display =\n",
              "          google.colab.kernel.accessAllowed ? 'block' : 'none';\n",
              "\n",
              "        async function convertToInteractive(key) {\n",
              "          const element = document.querySelector('#df-9c7aa30f-2c54-43d9-906d-7ef5cf557ee8');\n",
              "          const dataTable =\n",
              "            await google.colab.kernel.invokeFunction('convertToInteractive',\n",
              "                                                     [key], {});\n",
              "          if (!dataTable) return;\n",
              "\n",
              "          const docLinkHtml = 'Like what you see? Visit the ' +\n",
              "            '<a target=\"_blank\" href=https://colab.research.google.com/notebooks/data_table.ipynb>data table notebook</a>'\n",
              "            + ' to learn more about interactive tables.';\n",
              "          element.innerHTML = '';\n",
              "          dataTable['output_type'] = 'display_data';\n",
              "          await google.colab.output.renderOutput(dataTable, element);\n",
              "          const docLink = document.createElement('div');\n",
              "          docLink.innerHTML = docLinkHtml;\n",
              "          element.appendChild(docLink);\n",
              "        }\n",
              "      </script>\n",
              "    </div>\n",
              "  </div>\n",
              "  "
            ],
            "text/plain": [
              "    A   B           C   D\n",
              "0   9 -20   77.642773  12\n",
              "1  55  32  129.826880  19\n",
              "2  68 -37  143.054409  17\n",
              "3  78 -21  102.172845  12\n",
              "4  73 -46  127.332667  12\n",
              "5  24 -26  125.446470  19\n",
              "6  43  44  167.732371  11\n",
              "7  40 -13  153.192995  17\n",
              "8  55  39   73.319170  14\n",
              "9  58  40  172.304070  19"
            ]
          },
          "metadata": {},
          "execution_count": 17
        }
      ]
    },
    {
      "cell_type": "code",
      "source": [
        "def add_2(x):\n",
        "    return x+2\n",
        "\n",
        "#la función se aplica a todo el DataFrame\n",
        "df.apply(add_2)"
      ],
      "metadata": {
        "colab": {
          "base_uri": "https://localhost:8080/",
          "height": 363
        },
        "id": "1lgMOS8g3yKx",
        "outputId": "79c35e53-01d6-4c2b-928b-c679fc6502e4"
      },
      "execution_count": null,
      "outputs": [
        {
          "output_type": "execute_result",
          "data": {
            "text/html": [
              "\n",
              "  <div id=\"df-c5f77e58-d486-4f70-b829-4be666cd6c96\">\n",
              "    <div class=\"colab-df-container\">\n",
              "      <div>\n",
              "<style scoped>\n",
              "    .dataframe tbody tr th:only-of-type {\n",
              "        vertical-align: middle;\n",
              "    }\n",
              "\n",
              "    .dataframe tbody tr th {\n",
              "        vertical-align: top;\n",
              "    }\n",
              "\n",
              "    .dataframe thead th {\n",
              "        text-align: right;\n",
              "    }\n",
              "</style>\n",
              "<table border=\"1\" class=\"dataframe\">\n",
              "  <thead>\n",
              "    <tr style=\"text-align: right;\">\n",
              "      <th></th>\n",
              "      <th>A</th>\n",
              "      <th>B</th>\n",
              "      <th>C</th>\n",
              "      <th>D</th>\n",
              "    </tr>\n",
              "  </thead>\n",
              "  <tbody>\n",
              "    <tr>\n",
              "      <th>0</th>\n",
              "      <td>11</td>\n",
              "      <td>-18</td>\n",
              "      <td>79.642773</td>\n",
              "      <td>14</td>\n",
              "    </tr>\n",
              "    <tr>\n",
              "      <th>1</th>\n",
              "      <td>57</td>\n",
              "      <td>34</td>\n",
              "      <td>131.826880</td>\n",
              "      <td>21</td>\n",
              "    </tr>\n",
              "    <tr>\n",
              "      <th>2</th>\n",
              "      <td>70</td>\n",
              "      <td>-35</td>\n",
              "      <td>145.054409</td>\n",
              "      <td>19</td>\n",
              "    </tr>\n",
              "    <tr>\n",
              "      <th>3</th>\n",
              "      <td>80</td>\n",
              "      <td>-19</td>\n",
              "      <td>104.172845</td>\n",
              "      <td>14</td>\n",
              "    </tr>\n",
              "    <tr>\n",
              "      <th>4</th>\n",
              "      <td>75</td>\n",
              "      <td>-44</td>\n",
              "      <td>129.332667</td>\n",
              "      <td>14</td>\n",
              "    </tr>\n",
              "    <tr>\n",
              "      <th>5</th>\n",
              "      <td>26</td>\n",
              "      <td>-24</td>\n",
              "      <td>127.446470</td>\n",
              "      <td>21</td>\n",
              "    </tr>\n",
              "    <tr>\n",
              "      <th>6</th>\n",
              "      <td>45</td>\n",
              "      <td>46</td>\n",
              "      <td>169.732371</td>\n",
              "      <td>13</td>\n",
              "    </tr>\n",
              "    <tr>\n",
              "      <th>7</th>\n",
              "      <td>42</td>\n",
              "      <td>-11</td>\n",
              "      <td>155.192995</td>\n",
              "      <td>19</td>\n",
              "    </tr>\n",
              "    <tr>\n",
              "      <th>8</th>\n",
              "      <td>57</td>\n",
              "      <td>41</td>\n",
              "      <td>75.319170</td>\n",
              "      <td>16</td>\n",
              "    </tr>\n",
              "    <tr>\n",
              "      <th>9</th>\n",
              "      <td>60</td>\n",
              "      <td>42</td>\n",
              "      <td>174.304070</td>\n",
              "      <td>21</td>\n",
              "    </tr>\n",
              "  </tbody>\n",
              "</table>\n",
              "</div>\n",
              "      <button class=\"colab-df-convert\" onclick=\"convertToInteractive('df-c5f77e58-d486-4f70-b829-4be666cd6c96')\"\n",
              "              title=\"Convert this dataframe to an interactive table.\"\n",
              "              style=\"display:none;\">\n",
              "        \n",
              "  <svg xmlns=\"http://www.w3.org/2000/svg\" height=\"24px\"viewBox=\"0 0 24 24\"\n",
              "       width=\"24px\">\n",
              "    <path d=\"M0 0h24v24H0V0z\" fill=\"none\"/>\n",
              "    <path d=\"M18.56 5.44l.94 2.06.94-2.06 2.06-.94-2.06-.94-.94-2.06-.94 2.06-2.06.94zm-11 1L8.5 8.5l.94-2.06 2.06-.94-2.06-.94L8.5 2.5l-.94 2.06-2.06.94zm10 10l.94 2.06.94-2.06 2.06-.94-2.06-.94-.94-2.06-.94 2.06-2.06.94z\"/><path d=\"M17.41 7.96l-1.37-1.37c-.4-.4-.92-.59-1.43-.59-.52 0-1.04.2-1.43.59L10.3 9.45l-7.72 7.72c-.78.78-.78 2.05 0 2.83L4 21.41c.39.39.9.59 1.41.59.51 0 1.02-.2 1.41-.59l7.78-7.78 2.81-2.81c.8-.78.8-2.07 0-2.86zM5.41 20L4 18.59l7.72-7.72 1.47 1.35L5.41 20z\"/>\n",
              "  </svg>\n",
              "      </button>\n",
              "      \n",
              "  <style>\n",
              "    .colab-df-container {\n",
              "      display:flex;\n",
              "      flex-wrap:wrap;\n",
              "      gap: 12px;\n",
              "    }\n",
              "\n",
              "    .colab-df-convert {\n",
              "      background-color: #E8F0FE;\n",
              "      border: none;\n",
              "      border-radius: 50%;\n",
              "      cursor: pointer;\n",
              "      display: none;\n",
              "      fill: #1967D2;\n",
              "      height: 32px;\n",
              "      padding: 0 0 0 0;\n",
              "      width: 32px;\n",
              "    }\n",
              "\n",
              "    .colab-df-convert:hover {\n",
              "      background-color: #E2EBFA;\n",
              "      box-shadow: 0px 1px 2px rgba(60, 64, 67, 0.3), 0px 1px 3px 1px rgba(60, 64, 67, 0.15);\n",
              "      fill: #174EA6;\n",
              "    }\n",
              "\n",
              "    [theme=dark] .colab-df-convert {\n",
              "      background-color: #3B4455;\n",
              "      fill: #D2E3FC;\n",
              "    }\n",
              "\n",
              "    [theme=dark] .colab-df-convert:hover {\n",
              "      background-color: #434B5C;\n",
              "      box-shadow: 0px 1px 3px 1px rgba(0, 0, 0, 0.15);\n",
              "      filter: drop-shadow(0px 1px 2px rgba(0, 0, 0, 0.3));\n",
              "      fill: #FFFFFF;\n",
              "    }\n",
              "  </style>\n",
              "\n",
              "      <script>\n",
              "        const buttonEl =\n",
              "          document.querySelector('#df-c5f77e58-d486-4f70-b829-4be666cd6c96 button.colab-df-convert');\n",
              "        buttonEl.style.display =\n",
              "          google.colab.kernel.accessAllowed ? 'block' : 'none';\n",
              "\n",
              "        async function convertToInteractive(key) {\n",
              "          const element = document.querySelector('#df-c5f77e58-d486-4f70-b829-4be666cd6c96');\n",
              "          const dataTable =\n",
              "            await google.colab.kernel.invokeFunction('convertToInteractive',\n",
              "                                                     [key], {});\n",
              "          if (!dataTable) return;\n",
              "\n",
              "          const docLinkHtml = 'Like what you see? Visit the ' +\n",
              "            '<a target=\"_blank\" href=https://colab.research.google.com/notebooks/data_table.ipynb>data table notebook</a>'\n",
              "            + ' to learn more about interactive tables.';\n",
              "          element.innerHTML = '';\n",
              "          dataTable['output_type'] = 'display_data';\n",
              "          await google.colab.output.renderOutput(dataTable, element);\n",
              "          const docLink = document.createElement('div');\n",
              "          docLink.innerHTML = docLinkHtml;\n",
              "          element.appendChild(docLink);\n",
              "        }\n",
              "      </script>\n",
              "    </div>\n",
              "  </div>\n",
              "  "
            ],
            "text/plain": [
              "    A   B           C   D\n",
              "0  11 -18   79.642773  14\n",
              "1  57  34  131.826880  21\n",
              "2  70 -35  145.054409  19\n",
              "3  80 -19  104.172845  14\n",
              "4  75 -44  129.332667  14\n",
              "5  26 -24  127.446470  21\n",
              "6  45  46  169.732371  13\n",
              "7  42 -11  155.192995  19\n",
              "8  57  41   75.319170  16\n",
              "9  60  42  174.304070  21"
            ]
          },
          "metadata": {},
          "execution_count": 18
        }
      ]
    }
  ]
}